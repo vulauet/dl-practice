{
 "cells": [
  {
   "cell_type": "code",
   "execution_count": 1,
   "metadata": {
    "collapsed": true
   },
   "outputs": [],
   "source": [
    "import torch"
   ]
  },
  {
   "cell_type": "code",
   "execution_count": 2,
   "metadata": {},
   "outputs": [
    {
     "name": "stdout",
     "output_type": "stream",
     "text": [
      "\n1.00000e-21 *\n  0.0000  0.0000  0.0109\n  0.0000  0.0000  0.0000\n  0.0000  0.0000  0.0000\n  0.0000  1.9686  0.0000\n  0.0000  0.0000  0.0000\n[torch.FloatTensor of size 5x3]\n\n"
     ]
    }
   ],
   "source": [
    "x = torch.Tensor(5, 3)\n",
    "print x"
   ]
  },
  {
   "cell_type": "code",
   "execution_count": 3,
   "metadata": {},
   "outputs": [
    {
     "name": "stdout",
     "output_type": "stream",
     "text": [
      "\n 0.1991  0.9964  0.3483\n 0.7594  0.8520  0.6702\n 0.6392  0.9526  0.0209\n 0.9661  0.7654  0.1669\n 0.9346  0.0336  0.2361\n[torch.FloatTensor of size 5x3]\n\n"
     ]
    }
   ],
   "source": [
    "x = torch.rand(5, 3)\n",
    "print x"
   ]
  },
  {
   "cell_type": "code",
   "execution_count": 5,
   "metadata": {},
   "outputs": [
    {
     "name": "stdout",
     "output_type": "stream",
     "text": [
      "torch.Size([5, 3])\n"
     ]
    }
   ],
   "source": [
    "print x.size()"
   ]
  },
  {
   "cell_type": "code",
   "execution_count": 6,
   "metadata": {},
   "outputs": [
    {
     "name": "stdout",
     "output_type": "stream",
     "text": [
      "\n 1.0805  1.4871  0.3711\n 0.7917  1.4022  0.7712\n 1.3067  1.1764  0.1086\n 1.9332  1.7636  0.7973\n 1.9091  0.1172  0.8921\n[torch.FloatTensor of size 5x3]\n\n"
     ]
    }
   ],
   "source": [
    "y = torch.rand(5, 3)\n",
    "print x + y"
   ]
  },
  {
   "cell_type": "code",
   "execution_count": 7,
   "metadata": {},
   "outputs": [
    {
     "name": "stdout",
     "output_type": "stream",
     "text": [
      "\n 1.0805  1.4871  0.3711\n 0.7917  1.4022  0.7712\n 1.3067  1.1764  0.1086\n 1.9332  1.7636  0.7973\n 1.9091  0.1172  0.8921\n[torch.FloatTensor of size 5x3]\n\n"
     ]
    }
   ],
   "source": [
    "print torch.add(x, y)"
   ]
  },
  {
   "cell_type": "code",
   "execution_count": 9,
   "metadata": {},
   "outputs": [
    {
     "name": "stdout",
     "output_type": "stream",
     "text": [
      "\n 1.0805  1.4871  0.3711\n 0.7917  1.4022  0.7712\n 1.3067  1.1764  0.1086\n 1.9332  1.7636  0.7973\n 1.9091  0.1172  0.8921\n[torch.FloatTensor of size 5x3]\n\n"
     ]
    }
   ],
   "source": [
    "result = torch.Tensor(5, 3)\n",
    "torch.add(x, y, out=result)\n",
    "print result"
   ]
  },
  {
   "cell_type": "code",
   "execution_count": 10,
   "metadata": {},
   "outputs": [
    {
     "name": "stdout",
     "output_type": "stream",
     "text": [
      "\n 1.0805  1.4871  0.3711\n 0.7917  1.4022  0.7712\n 1.3067  1.1764  0.1086\n 1.9332  1.7636  0.7973\n 1.9091  0.1172  0.8921\n[torch.FloatTensor of size 5x3]\n\n"
     ]
    }
   ],
   "source": [
    "# inplace operation is post-fixed with an '_' (.copy_(), .t_()) \n",
    "y.add_(x)\n",
    "print y"
   ]
  },
  {
   "cell_type": "code",
   "execution_count": 11,
   "metadata": {},
   "outputs": [
    {
     "name": "stdout",
     "output_type": "stream",
     "text": [
      "\n 0.9964\n 0.8520\n 0.9526\n 0.7654\n 0.0336\n[torch.FloatTensor of size 5]\n\n"
     ]
    }
   ],
   "source": [
    "print x[:, 1]"
   ]
  },
  {
   "cell_type": "code",
   "execution_count": 13,
   "metadata": {},
   "outputs": [
    {
     "name": "stdout",
     "output_type": "stream",
     "text": [
      " torch.Size([4, 4]) torch.Size([16]) torch.Size([2, 8])\n"
     ]
    }
   ],
   "source": [
    "# resize/reshape\n",
    "x = torch.randn(4, 4)\n",
    "y = x.view(16)\n",
    "z = x.view(-1, 8)  # the size -1 is inferred from other dimensions\n",
    "print x.size(), y.size(), z.size()"
   ]
  },
  {
   "cell_type": "code",
   "execution_count": 15,
   "metadata": {},
   "outputs": [
    {
     "name": "stdout",
     "output_type": "stream",
     "text": [
      "\n 1\n 1\n 1\n 1\n 1\n[torch.FloatTensor of size 5]\n\n"
     ]
    }
   ],
   "source": [
    "# convert torch tensor to numpy array\n",
    "a = torch.ones(5)\n",
    "print a"
   ]
  },
  {
   "cell_type": "code",
   "execution_count": 16,
   "metadata": {},
   "outputs": [
    {
     "name": "stdout",
     "output_type": "stream",
     "text": [
      "[1. 1. 1. 1. 1.]\n"
     ]
    }
   ],
   "source": [
    "b = a.numpy()\n",
    "print b"
   ]
  },
  {
   "cell_type": "code",
   "execution_count": 17,
   "metadata": {},
   "outputs": [
    {
     "name": "stdout",
     "output_type": "stream",
     "text": [
      "\n 2\n 2\n 2\n 2\n 2\n[torch.FloatTensor of size 5]\n\n[2. 2. 2. 2. 2.]\n"
     ]
    }
   ],
   "source": [
    "a.add_(1)\n",
    "print a\n",
    "print b"
   ]
  },
  {
   "cell_type": "code",
   "execution_count": 18,
   "metadata": {},
   "outputs": [
    {
     "name": "stdout",
     "output_type": "stream",
     "text": [
      "[2. 2. 2. 2. 2.]\n\n 2\n 2\n 2\n 2\n 2\n[torch.DoubleTensor of size 5]\n\n"
     ]
    }
   ],
   "source": [
    "# convert numpy array to torch tensor\n",
    "\n",
    "import numpy as np\n",
    "a = np.ones(5)\n",
    "b = torch.from_numpy(a)\n",
    "np.add(a, 1, out=a)\n",
    "print(a)\n",
    "print(b)"
   ]
  },
  {
   "cell_type": "code",
   "execution_count": 19,
   "metadata": {},
   "outputs": [
    {
     "name": "stdout",
     "output_type": "stream",
     "text": [
      "False\n"
     ]
    }
   ],
   "source": [
    "print torch.cuda.is_available()"
   ]
  },
  {
   "cell_type": "code",
   "execution_count": 21,
   "metadata": {},
   "outputs": [],
   "source": [
    "if torch.cuda.is_available():\n",
    "    x = x.cuda()\n",
    "    y = y.cuda()\n",
    "    x + y"
   ]
  },
  {
   "cell_type": "code",
   "execution_count": null,
   "metadata": {},
   "outputs": [],
   "source": []
  }
 ],
 "metadata": {
  "kernelspec": {
   "display_name": "Python 2",
   "language": "python",
   "name": "python2"
  },
  "language_info": {
   "codemirror_mode": {
    "name": "ipython",
    "version": 2
   },
   "file_extension": ".py",
   "mimetype": "text/x-python",
   "name": "python",
   "nbconvert_exporter": "python",
   "pygments_lexer": "ipython2",
   "version": "2.7.6"
  }
 },
 "nbformat": 4,
 "nbformat_minor": 0
}
